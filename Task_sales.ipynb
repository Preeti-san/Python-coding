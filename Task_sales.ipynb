{
  "nbformat": 4,
  "nbformat_minor": 0,
  "metadata": {
    "colab": {
      "provenance": [],
      "authorship_tag": "ABX9TyMd76BUGrckzim87HCggLfH",
      "include_colab_link": true
    },
    "kernelspec": {
      "name": "python3",
      "display_name": "Python 3"
    },
    "language_info": {
      "name": "python"
    }
  },
  "cells": [
    {
      "cell_type": "markdown",
      "metadata": {
        "id": "view-in-github",
        "colab_type": "text"
      },
      "source": [
        "<a href=\"https://colab.research.google.com/github/Preeti-san/Python-coding/blob/main/Task_sales.ipynb\" target=\"_parent\"><img src=\"https://colab.research.google.com/assets/colab-badge.svg\" alt=\"Open In Colab\"/></a>"
      ]
    },
    {
      "cell_type": "markdown",
      "source": [
        " To create a 2D array to represent sales data for 3 different products"
      ],
      "metadata": {
        "id": "VoQslF6l4OKY"
      }
    },
    {
      "cell_type": "code",
      "source": [
        "import numpy as np\n",
        "sales_data = np.array([\n",
        "    [150, 120, 340, 860, 720,450], #product 1\n",
        "    [650, 580, 220, 540, 300,700], #product 2\n",
        "    [200, 250, 300, 350, 400,670]  #product 3\n",
        "])\n",
        "\n",
        "# Print the sales data.\n",
        "print(sales_data)\n"
      ],
      "metadata": {
        "colab": {
          "base_uri": "https://localhost:8080/"
        },
        "id": "3bfGBRXV4mNL",
        "outputId": "ccbd2c9d-4253-4eaf-bef3-d9bfdc5eb507"
      },
      "execution_count": 41,
      "outputs": [
        {
          "output_type": "stream",
          "name": "stdout",
          "text": [
            "[[150 120 340 860 720 450]\n",
            " [650 580 220 540 300 700]\n",
            " [200 250 300 350 400 670]]\n"
          ]
        }
      ]
    },
    {
      "cell_type": "code",
      "source": [
        "# Reshape the array to separate the data into quarterly sales for each product.\n",
        "quarterly_sales = np.reshape(sales_data, (-1))\n",
        "\n",
        "# Print the reshaped array.\n",
        "print(quarterly_sales)\n"
      ],
      "metadata": {
        "colab": {
          "base_uri": "https://localhost:8080/"
        },
        "id": "_2oiSVF85hBC",
        "outputId": "1c2aa2d7-b7df-467b-f693-f818579f7089"
      },
      "execution_count": 42,
      "outputs": [
        {
          "output_type": "stream",
          "name": "stdout",
          "text": [
            "[150 120 340 860 720 450 650 580 220 540 300 700 200 250 300 350 400 670]\n"
          ]
        }
      ]
    },
    {
      "cell_type": "code",
      "source": [
        "print(\"Sales data:\",sales_data,\"\\n\")\n",
        "x1=quarterly_sales[:-16]\n",
        "print(\"Quarterly sales for prod1:\",x1)\n",
        "x2=quarterly_sales[6:-10]\n",
        "print(\"Quarterly sales for prod2:\",x2)\n",
        "x3=quarterly_sales[12:-4]\n",
        "print(\"Quarterly sales for prod3:\",x3)"
      ],
      "metadata": {
        "colab": {
          "base_uri": "https://localhost:8080/"
        },
        "id": "Th62HjsXDl1M",
        "outputId": "ff07cebc-eb29-444a-afc7-43b248d3c4b9"
      },
      "execution_count": 43,
      "outputs": [
        {
          "output_type": "stream",
          "name": "stdout",
          "text": [
            "Sales data: [[150 120 340 860 720 450]\n",
            " [650 580 220 540 300 700]\n",
            " [200 250 300 350 400 670]] \n",
            "\n",
            "Quarterly sales for prod1: [150 120]\n",
            "Quarterly sales for prod2: [650 580]\n",
            "Quarterly sales for prod3: [200 250]\n"
          ]
        }
      ]
    },
    {
      "cell_type": "code",
      "source": [
        "#To transpose the array\n",
        "A=sales_data.T\n",
        "print(A)"
      ],
      "metadata": {
        "colab": {
          "base_uri": "https://localhost:8080/"
        },
        "id": "ZLKmHlONN5Ci",
        "outputId": "f98c5b32-01b8-41dc-a856-303fad19412a"
      },
      "execution_count": 44,
      "outputs": [
        {
          "output_type": "stream",
          "name": "stdout",
          "text": [
            "[[150 650 200]\n",
            " [120 580 250]\n",
            " [340 220 300]\n",
            " [860 540 350]\n",
            " [720 300 400]\n",
            " [450 700 670]]\n"
          ]
        }
      ]
    },
    {
      "cell_type": "code",
      "source": [
        "sales_data1=sales_data[:3]\n",
        "print(sales_data1)"
      ],
      "metadata": {
        "colab": {
          "base_uri": "https://localhost:8080/"
        },
        "id": "3rxSb82dRrXV",
        "outputId": "21870a7e-28a9-4a04-f664-829ee2fe8bd4"
      },
      "execution_count": 45,
      "outputs": [
        {
          "output_type": "stream",
          "name": "stdout",
          "text": [
            "[[150 120 340 860 720 450]\n",
            " [650 580 220 540 300 700]\n",
            " [200 250 300 350 400 670]]\n"
          ]
        }
      ]
    },
    {
      "cell_type": "code",
      "source": [
        "#To calculate the total sales for each product\n",
        "print(\"Product wise sales data:\\n\")\n",
        "p1=sales_data1[0]\n",
        "p2=sales_data1[1]\n",
        "p3=sales_data1[2]\n",
        "print(\"Sales for product1:\",p1)\n",
        "print(\"Sales for product2:\",p2)\n",
        "print(\"Sales for product3:\",p3)\n",
        "total_sales=np.sum(sales_data1,axis=1)\n",
        "print(\"Total sales for each product:\",total_sales)"
      ],
      "metadata": {
        "colab": {
          "base_uri": "https://localhost:8080/"
        },
        "id": "-F5veTfBOVry",
        "outputId": "2c783bd0-1f6d-48f1-a9a6-c7634992084a"
      },
      "execution_count": 46,
      "outputs": [
        {
          "output_type": "stream",
          "name": "stdout",
          "text": [
            "Product wise sales data:\n",
            "\n",
            "Sales for product1: [150 120 340 860 720 450]\n",
            "Sales for product2: [650 580 220 540 300 700]\n",
            "Sales for product3: [200 250 300 350 400 670]\n",
            "Total sales for each product: [2640 2990 2170]\n"
          ]
        }
      ]
    },
    {
      "cell_type": "code",
      "source": [
        "#TO calculate the total sales per quarter\n",
        "print(\"Quaretrly sales for each product\")\n",
        "print(x1,x2,x3)\n",
        "total_sales_per_quarter=np.sum(x1,axis=0),np.sum(x2,axis=0),np.sum(x3,axis=0)\n",
        "print(\"Total sales per quarter:\",total_sales_per_quarter)"
      ],
      "metadata": {
        "colab": {
          "base_uri": "https://localhost:8080/"
        },
        "id": "7lA_7ExoSful",
        "outputId": "493f7065-0a5c-4cf3-aacb-67dab676c363"
      },
      "execution_count": 53,
      "outputs": [
        {
          "output_type": "stream",
          "name": "stdout",
          "text": [
            "Quaretrly sales for each product\n",
            "[150 120] [650 580] [200 250]\n",
            "Total sales per quarter: (270, 1230, 450)\n"
          ]
        }
      ]
    },
    {
      "cell_type": "code",
      "source": [
        "#to add a new prod quarterly sales to the existing array\n",
        "new_prod=np.array([470,690,360,280,390,580])\n",
        "\n",
        "sales_data_new=np.vstack((sales_data1,new_prod))\n",
        "print(sales_data_new)"
      ],
      "metadata": {
        "colab": {
          "base_uri": "https://localhost:8080/"
        },
        "id": "GjXpwuAoV2QV",
        "outputId": "8b486cdf-fcf9-4d24-b46a-94399a40a5ea"
      },
      "execution_count": 54,
      "outputs": [
        {
          "output_type": "stream",
          "name": "stdout",
          "text": [
            "[[150 120 340 860 720 450]\n",
            " [650 580 220 540 300 700]\n",
            " [200 250 300 350 400 670]\n",
            " [470 690 360 280 390 580]]\n"
          ]
        }
      ]
    },
    {
      "cell_type": "code",
      "source": [
        "#TO SPLIT THE ARRAY INTO INDIVIDUAL SALES ARRAYS\n",
        "split_array=np.vsplit(sales_data_new,4)\n",
        "prod1=split_array[0]\n",
        "prod2=split_array[1]\n",
        "prod3=split_array[2]\n",
        "prod4=split_array[3]\n",
        "print(\"Sales for product1:\",prod1,\"\\n\")\n",
        "print(\"sales for product2:\",prod2,\"\\n\")\n",
        "print(\"Sales for product3:\",prod3,\"\\n\")\n",
        "print(\"Sales for product4:\",prod4)\n"
      ],
      "metadata": {
        "colab": {
          "base_uri": "https://localhost:8080/"
        },
        "id": "25Ls8uc6tDpk",
        "outputId": "a43906dd-7338-436a-fe11-3b1710a715c7"
      },
      "execution_count": 55,
      "outputs": [
        {
          "output_type": "stream",
          "name": "stdout",
          "text": [
            "Sales for product1: [[150 120 340 860 720 450]] \n",
            "\n",
            "sales for product2: [[650 580 220 540 300 700]] \n",
            "\n",
            "Sales for product3: [[200 250 300 350 400 670]] \n",
            "\n",
            "Sales for product4: [[470 690 360 280 390 580]]\n"
          ]
        }
      ]
    }
  ]
}